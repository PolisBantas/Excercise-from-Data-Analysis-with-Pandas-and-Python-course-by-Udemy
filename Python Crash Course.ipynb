{
 "cells": [
  {
   "cell_type": "code",
   "execution_count": 6,
   "id": "8b150548",
   "metadata": {},
   "outputs": [],
   "source": [
    "def convert_to_fahrenheit(celcius_temp):\n",
    "    product  = celcius_temp * 1.8\n",
    "    return product + 32"
   ]
  },
  {
   "cell_type": "code",
   "execution_count": 12,
   "id": "e050df72",
   "metadata": {},
   "outputs": [
    {
     "data": {
      "text/plain": [
       "5.0"
      ]
     },
     "execution_count": 12,
     "metadata": {},
     "output_type": "execute_result"
    }
   ],
   "source": [
    "convert_to_fahrenheit(-15)"
   ]
  },
  {
   "cell_type": "code",
   "execution_count": null,
   "id": "efe04fda",
   "metadata": {},
   "outputs": [],
   "source": []
  },
  {
   "cell_type": "code",
   "execution_count": 13,
   "id": "ecc3a90f",
   "metadata": {},
   "outputs": [],
   "source": [
    "def convert_to_fahrenheit(celcius_temp = 0):\n",
    "    product  = celcius_temp * 1.8\n",
    "    return product + 32"
   ]
  },
  {
   "cell_type": "code",
   "execution_count": 14,
   "id": "5e91a74b",
   "metadata": {},
   "outputs": [
    {
     "data": {
      "text/plain": [
       "32.0"
      ]
     },
     "execution_count": 14,
     "metadata": {},
     "output_type": "execute_result"
    }
   ],
   "source": [
    "convert_to_fahrenheit()"
   ]
  },
  {
   "cell_type": "code",
   "execution_count": 1,
   "id": "d002c5c5",
   "metadata": {},
   "outputs": [],
   "source": [
    "profession  = 'Developer'"
   ]
  },
  {
   "cell_type": "code",
   "execution_count": 2,
   "id": "cc428e2c",
   "metadata": {},
   "outputs": [
    {
     "data": {
      "text/plain": [
       "'DEVELOPER'"
      ]
     },
     "execution_count": 2,
     "metadata": {},
     "output_type": "execute_result"
    }
   ],
   "source": [
    "profession.upper()"
   ]
  },
  {
   "cell_type": "code",
   "execution_count": 3,
   "id": "cebabcd8",
   "metadata": {},
   "outputs": [
    {
     "data": {
      "text/plain": [
       "'developer'"
      ]
     },
     "execution_count": 3,
     "metadata": {},
     "output_type": "execute_result"
    }
   ],
   "source": [
    "profession.lower()"
   ]
  },
  {
   "cell_type": "code",
   "execution_count": 5,
   "id": "fe7009f6",
   "metadata": {},
   "outputs": [
    {
     "data": {
      "text/plain": [
       "'dEVELOPER'"
      ]
     },
     "execution_count": 5,
     "metadata": {},
     "output_type": "execute_result"
    }
   ],
   "source": [
    "profession.swapcase()"
   ]
  },
  {
   "cell_type": "code",
   "execution_count": 6,
   "id": "a27f1030",
   "metadata": {},
   "outputs": [
    {
     "data": {
      "text/plain": [
       "'Onve Upon A Time'"
      ]
     },
     "execution_count": 6,
     "metadata": {},
     "output_type": "execute_result"
    }
   ],
   "source": [
    "'onve upon a time'.title()"
   ]
  },
  {
   "cell_type": "code",
   "execution_count": 7,
   "id": "d8a1d58c",
   "metadata": {},
   "outputs": [
    {
     "data": {
      "text/plain": [
       "'Onve upon a time'"
      ]
     },
     "execution_count": 7,
     "metadata": {},
     "output_type": "execute_result"
    }
   ],
   "source": [
    "'onve upon a time'.capitalize()"
   ]
  },
  {
   "cell_type": "code",
   "execution_count": 8,
   "id": "a2707124",
   "metadata": {},
   "outputs": [],
   "source": [
    "profession = '        Developer      '"
   ]
  },
  {
   "cell_type": "code",
   "execution_count": 9,
   "id": "c8deb7c9",
   "metadata": {},
   "outputs": [
    {
     "data": {
      "text/plain": [
       "'Developer      '"
      ]
     },
     "execution_count": 9,
     "metadata": {},
     "output_type": "execute_result"
    }
   ],
   "source": [
    "profession.lstrip()"
   ]
  },
  {
   "cell_type": "code",
   "execution_count": 10,
   "id": "e3c0e76f",
   "metadata": {},
   "outputs": [
    {
     "data": {
      "text/plain": [
       "'        Developer'"
      ]
     },
     "execution_count": 10,
     "metadata": {},
     "output_type": "execute_result"
    }
   ],
   "source": [
    "profession.rstrip()"
   ]
  },
  {
   "cell_type": "code",
   "execution_count": 11,
   "id": "9ac31bfe",
   "metadata": {},
   "outputs": [
    {
     "data": {
      "text/plain": [
       "'Developer'"
      ]
     },
     "execution_count": 11,
     "metadata": {},
     "output_type": "execute_result"
    }
   ],
   "source": [
    "profession.strip()"
   ]
  },
  {
   "cell_type": "code",
   "execution_count": 15,
   "id": "a359c94b",
   "metadata": {},
   "outputs": [
    {
     "data": {
      "text/plain": [
       "'        D*v*lop*r      '"
      ]
     },
     "execution_count": 15,
     "metadata": {},
     "output_type": "execute_result"
    }
   ],
   "source": [
    "profession.replace('e', '*')"
   ]
  },
  {
   "cell_type": "code",
   "execution_count": 16,
   "id": "f2ec08ea",
   "metadata": {},
   "outputs": [
    {
     "data": {
      "text/plain": [
       "'D*v*lop*r'"
      ]
     },
     "execution_count": 16,
     "metadata": {},
     "output_type": "execute_result"
    }
   ],
   "source": [
    "profession.strip().replace('e', '*')"
   ]
  },
  {
   "cell_type": "code",
   "execution_count": 17,
   "id": "96be4c6d",
   "metadata": {},
   "outputs": [],
   "source": [
    "animal = 'rhinoceros'"
   ]
  },
  {
   "cell_type": "code",
   "execution_count": 18,
   "id": "0d5ff4b7",
   "metadata": {},
   "outputs": [
    {
     "data": {
      "text/plain": [
       "True"
      ]
     },
     "execution_count": 18,
     "metadata": {},
     "output_type": "execute_result"
    }
   ],
   "source": [
    "animal.startswith('rhin')"
   ]
  },
  {
   "cell_type": "code",
   "execution_count": null,
   "id": "5c982601",
   "metadata": {},
   "outputs": [],
   "source": []
  },
  {
   "cell_type": "code",
   "execution_count": 19,
   "id": "e803a8a9",
   "metadata": {},
   "outputs": [
    {
     "data": {
      "text/plain": [
       "False"
      ]
     },
     "execution_count": 19,
     "metadata": {},
     "output_type": "execute_result"
    }
   ],
   "source": [
    "animal.startswith('rhan')"
   ]
  },
  {
   "cell_type": "code",
   "execution_count": 20,
   "id": "067d7b5f",
   "metadata": {},
   "outputs": [
    {
     "data": {
      "text/plain": [
       "False"
      ]
     },
     "execution_count": 20,
     "metadata": {},
     "output_type": "execute_result"
    }
   ],
   "source": [
    "animal.startswith('ros')"
   ]
  },
  {
   "cell_type": "code",
   "execution_count": 21,
   "id": "6a7b99df",
   "metadata": {},
   "outputs": [
    {
     "data": {
      "text/plain": [
       "True"
      ]
     },
     "execution_count": 21,
     "metadata": {},
     "output_type": "execute_result"
    }
   ],
   "source": [
    "animal.endswith('ros')"
   ]
  },
  {
   "cell_type": "code",
   "execution_count": 22,
   "id": "01279404",
   "metadata": {},
   "outputs": [
    {
     "data": {
      "text/plain": [
       "False"
      ]
     },
     "execution_count": 22,
     "metadata": {},
     "output_type": "execute_result"
    }
   ],
   "source": [
    "animal.endswith('mos')"
   ]
  },
  {
   "cell_type": "code",
   "execution_count": 23,
   "id": "36160b86",
   "metadata": {},
   "outputs": [
    {
     "data": {
      "text/plain": [
       "True"
      ]
     },
     "execution_count": 23,
     "metadata": {},
     "output_type": "execute_result"
    }
   ],
   "source": [
    "'ino' in animal"
   ]
  },
  {
   "cell_type": "code",
   "execution_count": 24,
   "id": "ef079c5b",
   "metadata": {},
   "outputs": [
    {
     "data": {
      "text/plain": [
       "False"
      ]
     },
     "execution_count": 24,
     "metadata": {},
     "output_type": "execute_result"
    }
   ],
   "source": [
    "'zino' in animal"
   ]
  },
  {
   "cell_type": "code",
   "execution_count": 25,
   "id": "61e27f86",
   "metadata": {},
   "outputs": [
    {
     "data": {
      "text/plain": [
       "True"
      ]
     },
     "execution_count": 25,
     "metadata": {},
     "output_type": "execute_result"
    }
   ],
   "source": [
    "'z' not in animal"
   ]
  },
  {
   "cell_type": "code",
   "execution_count": null,
   "id": "2ea68b8e",
   "metadata": {},
   "outputs": [],
   "source": []
  },
  {
   "cell_type": "code",
   "execution_count": null,
   "id": "e94e31f3",
   "metadata": {},
   "outputs": [],
   "source": []
  },
  {
   "cell_type": "code",
   "execution_count": 26,
   "id": "bf9e2ec5",
   "metadata": {},
   "outputs": [
    {
     "data": {
      "text/plain": [
       "[1, 2, 3, 4]"
      ]
     },
     "execution_count": 26,
     "metadata": {},
     "output_type": "execute_result"
    }
   ],
   "source": [
    "[1, 2, 3, 4]"
   ]
  },
  {
   "cell_type": "code",
   "execution_count": 27,
   "id": "0c68a9e6",
   "metadata": {},
   "outputs": [],
   "source": [
    "party_attendees = ['Polis', 'Nancy', 'Mariana']"
   ]
  },
  {
   "cell_type": "code",
   "execution_count": 28,
   "id": "2328f92b",
   "metadata": {},
   "outputs": [
    {
     "data": {
      "text/plain": [
       "['Polis', 'Nancy', 'Mariana']"
      ]
     },
     "execution_count": 28,
     "metadata": {},
     "output_type": "execute_result"
    }
   ],
   "source": [
    "party_attendees"
   ]
  },
  {
   "cell_type": "code",
   "execution_count": 29,
   "id": "b2c4362c",
   "metadata": {},
   "outputs": [
    {
     "data": {
      "text/plain": [
       "3"
      ]
     },
     "execution_count": 29,
     "metadata": {},
     "output_type": "execute_result"
    }
   ],
   "source": [
    "len(party_attendees)"
   ]
  },
  {
   "cell_type": "code",
   "execution_count": 30,
   "id": "091062a1",
   "metadata": {},
   "outputs": [
    {
     "data": {
      "text/plain": [
       "list"
      ]
     },
     "execution_count": 30,
     "metadata": {},
     "output_type": "execute_result"
    }
   ],
   "source": [
    "type(party_attendees)"
   ]
  },
  {
   "cell_type": "code",
   "execution_count": 31,
   "id": "b4b5bcae",
   "metadata": {},
   "outputs": [],
   "source": [
    "presidents = ['Washigvton', 'Lincon']"
   ]
  },
  {
   "cell_type": "code",
   "execution_count": 32,
   "id": "a3268043",
   "metadata": {},
   "outputs": [],
   "source": [
    "presidents.append('Madison')"
   ]
  },
  {
   "cell_type": "code",
   "execution_count": 33,
   "id": "ccf36a27",
   "metadata": {},
   "outputs": [
    {
     "data": {
      "text/plain": [
       "['Washigvton', 'Lincon', 'Madison']"
      ]
     },
     "execution_count": 33,
     "metadata": {},
     "output_type": "execute_result"
    }
   ],
   "source": [
    "presidents"
   ]
  },
  {
   "cell_type": "code",
   "execution_count": 34,
   "id": "f49c9b7c",
   "metadata": {},
   "outputs": [
    {
     "data": {
      "text/plain": [
       "'Madison'"
      ]
     },
     "execution_count": 34,
     "metadata": {},
     "output_type": "execute_result"
    }
   ],
   "source": [
    "presidents.pop()"
   ]
  },
  {
   "cell_type": "code",
   "execution_count": 35,
   "id": "1a0e3d52",
   "metadata": {},
   "outputs": [
    {
     "data": {
      "text/plain": [
       "['Washigvton', 'Lincon']"
      ]
     },
     "execution_count": 35,
     "metadata": {},
     "output_type": "execute_result"
    }
   ],
   "source": [
    "presidents"
   ]
  },
  {
   "cell_type": "code",
   "execution_count": 36,
   "id": "cefc7f9d",
   "metadata": {},
   "outputs": [],
   "source": [
    "presidents.append('Madison')"
   ]
  },
  {
   "cell_type": "code",
   "execution_count": 37,
   "id": "e9201651",
   "metadata": {},
   "outputs": [
    {
     "data": {
      "text/plain": [
       "['Washigvton', 'Lincon', 'Madison']"
      ]
     },
     "execution_count": 37,
     "metadata": {},
     "output_type": "execute_result"
    }
   ],
   "source": [
    "presidents"
   ]
  },
  {
   "cell_type": "code",
   "execution_count": 38,
   "id": "b351a3e0",
   "metadata": {},
   "outputs": [],
   "source": [
    "presidents.remove('Madison')"
   ]
  },
  {
   "cell_type": "code",
   "execution_count": 39,
   "id": "6f13087c",
   "metadata": {},
   "outputs": [
    {
     "data": {
      "text/plain": [
       "['Washigvton', 'Lincon']"
      ]
     },
     "execution_count": 39,
     "metadata": {},
     "output_type": "execute_result"
    }
   ],
   "source": [
    "presidents"
   ]
  },
  {
   "cell_type": "code",
   "execution_count": 40,
   "id": "fb058fe1",
   "metadata": {},
   "outputs": [
    {
     "data": {
      "text/plain": [
       "True"
      ]
     },
     "execution_count": 40,
     "metadata": {},
     "output_type": "execute_result"
    }
   ],
   "source": [
    "'Lincon' in presidents"
   ]
  },
  {
   "cell_type": "code",
   "execution_count": 41,
   "id": "5663c7ce",
   "metadata": {},
   "outputs": [
    {
     "data": {
      "text/plain": [
       "True"
      ]
     },
     "execution_count": 41,
     "metadata": {},
     "output_type": "execute_result"
    }
   ],
   "source": [
    "'Obama' not in presidents"
   ]
  },
  {
   "cell_type": "code",
   "execution_count": null,
   "id": "8c332f47",
   "metadata": {},
   "outputs": [],
   "source": []
  },
  {
   "cell_type": "code",
   "execution_count": null,
   "id": "7e9ae7c9",
   "metadata": {},
   "outputs": [],
   "source": []
  },
  {
   "cell_type": "code",
   "execution_count": 42,
   "id": "acaa48ca",
   "metadata": {},
   "outputs": [],
   "source": [
    "spiderman = 'Spiderman'"
   ]
  },
  {
   "cell_type": "code",
   "execution_count": 43,
   "id": "224300b2",
   "metadata": {},
   "outputs": [
    {
     "data": {
      "text/plain": [
       "'S'"
      ]
     },
     "execution_count": 43,
     "metadata": {},
     "output_type": "execute_result"
    }
   ],
   "source": [
    "spiderman[0]"
   ]
  },
  {
   "cell_type": "code",
   "execution_count": 44,
   "id": "74e9b4a6",
   "metadata": {},
   "outputs": [
    {
     "data": {
      "text/plain": [
       "'n'"
      ]
     },
     "execution_count": 44,
     "metadata": {},
     "output_type": "execute_result"
    }
   ],
   "source": [
    "spiderman[-1]"
   ]
  },
  {
   "cell_type": "code",
   "execution_count": 45,
   "id": "9e75cc43",
   "metadata": {},
   "outputs": [
    {
     "data": {
      "text/plain": [
       "'m'"
      ]
     },
     "execution_count": 45,
     "metadata": {},
     "output_type": "execute_result"
    }
   ],
   "source": [
    "spiderman[-3]"
   ]
  },
  {
   "cell_type": "code",
   "execution_count": 46,
   "id": "81ea474f",
   "metadata": {},
   "outputs": [],
   "source": [
    "super_heros = ['Batman', 'Superman', 'Wolverine', 'Ironman', 'Hulk']"
   ]
  },
  {
   "cell_type": "code",
   "execution_count": 47,
   "id": "563a4192",
   "metadata": {},
   "outputs": [
    {
     "data": {
      "text/plain": [
       "5"
      ]
     },
     "execution_count": 47,
     "metadata": {},
     "output_type": "execute_result"
    }
   ],
   "source": [
    "len(super_heros)"
   ]
  },
  {
   "cell_type": "code",
   "execution_count": 48,
   "id": "93694043",
   "metadata": {},
   "outputs": [
    {
     "data": {
      "text/plain": [
       "'Batman'"
      ]
     },
     "execution_count": 48,
     "metadata": {},
     "output_type": "execute_result"
    }
   ],
   "source": [
    "super_heros[0]"
   ]
  },
  {
   "cell_type": "code",
   "execution_count": 49,
   "id": "8430ea4a",
   "metadata": {},
   "outputs": [
    {
     "data": {
      "text/plain": [
       "'Hulk'"
      ]
     },
     "execution_count": 49,
     "metadata": {},
     "output_type": "execute_result"
    }
   ],
   "source": [
    "super_heros[-1]"
   ]
  },
  {
   "cell_type": "code",
   "execution_count": 50,
   "id": "402f052e",
   "metadata": {},
   "outputs": [
    {
     "data": {
      "text/plain": [
       "['Superman', 'Wolverine']"
      ]
     },
     "execution_count": 50,
     "metadata": {},
     "output_type": "execute_result"
    }
   ],
   "source": [
    "super_heros[1:3]"
   ]
  },
  {
   "cell_type": "code",
   "execution_count": 51,
   "id": "49e542ea",
   "metadata": {},
   "outputs": [
    {
     "data": {
      "text/plain": [
       "['Batman', 'Superman', 'Wolverine']"
      ]
     },
     "execution_count": 51,
     "metadata": {},
     "output_type": "execute_result"
    }
   ],
   "source": [
    "super_heros[:3]"
   ]
  },
  {
   "cell_type": "code",
   "execution_count": 52,
   "id": "7098828b",
   "metadata": {},
   "outputs": [
    {
     "data": {
      "text/plain": [
       "['Wolverine', 'Ironman', 'Hulk']"
      ]
     },
     "execution_count": 52,
     "metadata": {},
     "output_type": "execute_result"
    }
   ],
   "source": [
    "super_heros[2:]"
   ]
  },
  {
   "cell_type": "code",
   "execution_count": null,
   "id": "6dc0f254",
   "metadata": {},
   "outputs": [],
   "source": []
  },
  {
   "cell_type": "code",
   "execution_count": null,
   "id": "39e05d03",
   "metadata": {},
   "outputs": [],
   "source": []
  },
  {
   "cell_type": "code",
   "execution_count": 53,
   "id": "c8a943aa",
   "metadata": {},
   "outputs": [],
   "source": [
    "menu = {\n",
    "    'Filet Mignon' : 29.99,\n",
    "    'Big Mac' : 3.99,\n",
    "    'Pizza' : 0.99,\n",
    "    'Salmon' : 29.99\n",
    "}"
   ]
  },
  {
   "cell_type": "code",
   "execution_count": 54,
   "id": "d8054a1e",
   "metadata": {},
   "outputs": [
    {
     "data": {
      "text/plain": [
       "{'Filet Mignon': 29.99, 'Big Mac': 3.99, 'Pizza': 0.99, 'Salmon': 29.99}"
      ]
     },
     "execution_count": 54,
     "metadata": {},
     "output_type": "execute_result"
    }
   ],
   "source": [
    "menu"
   ]
  },
  {
   "cell_type": "code",
   "execution_count": 55,
   "id": "52ddba69",
   "metadata": {},
   "outputs": [
    {
     "data": {
      "text/plain": [
       "4"
      ]
     },
     "execution_count": 55,
     "metadata": {},
     "output_type": "execute_result"
    }
   ],
   "source": [
    "len(menu)"
   ]
  },
  {
   "cell_type": "code",
   "execution_count": 57,
   "id": "590129fa",
   "metadata": {},
   "outputs": [
    {
     "data": {
      "text/plain": [
       "3.99"
      ]
     },
     "execution_count": 57,
     "metadata": {},
     "output_type": "execute_result"
    }
   ],
   "source": [
    "menu['Big Mac']"
   ]
  },
  {
   "cell_type": "code",
   "execution_count": 58,
   "id": "f321d88a",
   "metadata": {},
   "outputs": [],
   "source": [
    "menu['Burrito'] = 6.99"
   ]
  },
  {
   "cell_type": "code",
   "execution_count": 59,
   "id": "88808d0f",
   "metadata": {},
   "outputs": [
    {
     "data": {
      "text/plain": [
       "{'Filet Mignon': 29.99,\n",
       " 'Big Mac': 3.99,\n",
       " 'Pizza': 0.99,\n",
       " 'Salmon': 29.99,\n",
       " 'Burrito': 6.99}"
      ]
     },
     "execution_count": 59,
     "metadata": {},
     "output_type": "execute_result"
    }
   ],
   "source": [
    "menu"
   ]
  },
  {
   "cell_type": "code",
   "execution_count": 60,
   "id": "978bf423",
   "metadata": {},
   "outputs": [],
   "source": [
    "menu['Big Mac'] = 5.99"
   ]
  },
  {
   "cell_type": "code",
   "execution_count": 61,
   "id": "452240a9",
   "metadata": {},
   "outputs": [
    {
     "data": {
      "text/plain": [
       "{'Filet Mignon': 29.99,\n",
       " 'Big Mac': 5.99,\n",
       " 'Pizza': 0.99,\n",
       " 'Salmon': 29.99,\n",
       " 'Burrito': 6.99}"
      ]
     },
     "execution_count": 61,
     "metadata": {},
     "output_type": "execute_result"
    }
   ],
   "source": [
    "menu"
   ]
  },
  {
   "cell_type": "code",
   "execution_count": 63,
   "id": "9a7808d5",
   "metadata": {},
   "outputs": [
    {
     "data": {
      "text/plain": [
       "29.99"
      ]
     },
     "execution_count": 63,
     "metadata": {},
     "output_type": "execute_result"
    }
   ],
   "source": [
    "menu.pop('Filet Mignon')"
   ]
  },
  {
   "cell_type": "code",
   "execution_count": 64,
   "id": "33108b58",
   "metadata": {},
   "outputs": [
    {
     "data": {
      "text/plain": [
       "{'Big Mac': 5.99, 'Pizza': 0.99, 'Salmon': 29.99, 'Burrito': 6.99}"
      ]
     },
     "execution_count": 64,
     "metadata": {},
     "output_type": "execute_result"
    }
   ],
   "source": [
    "menu"
   ]
  },
  {
   "cell_type": "code",
   "execution_count": 65,
   "id": "1823a39f",
   "metadata": {},
   "outputs": [
    {
     "data": {
      "text/plain": [
       "True"
      ]
     },
     "execution_count": 65,
     "metadata": {},
     "output_type": "execute_result"
    }
   ],
   "source": [
    "'Big Mac' in menu"
   ]
  },
  {
   "cell_type": "code",
   "execution_count": 66,
   "id": "e702c248",
   "metadata": {},
   "outputs": [
    {
     "data": {
      "text/plain": [
       "True"
      ]
     },
     "execution_count": 66,
     "metadata": {},
     "output_type": "execute_result"
    }
   ],
   "source": [
    "'Bubble Gum' not in menu"
   ]
  },
  {
   "cell_type": "code",
   "execution_count": 67,
   "id": "b227d922",
   "metadata": {},
   "outputs": [
    {
     "data": {
      "text/plain": [
       "dict_values([5.99, 0.99, 29.99, 6.99])"
      ]
     },
     "execution_count": 67,
     "metadata": {},
     "output_type": "execute_result"
    }
   ],
   "source": [
    "menu.values()"
   ]
  },
  {
   "cell_type": "code",
   "execution_count": 69,
   "id": "6958afff",
   "metadata": {},
   "outputs": [
    {
     "data": {
      "text/plain": [
       "True"
      ]
     },
     "execution_count": 69,
     "metadata": {},
     "output_type": "execute_result"
    }
   ],
   "source": [
    "5.99 in menu.values()"
   ]
  },
  {
   "cell_type": "code",
   "execution_count": null,
   "id": "5580e454",
   "metadata": {},
   "outputs": [],
   "source": []
  }
 ],
 "metadata": {
  "kernelspec": {
   "display_name": "Python 3 (ipykernel)",
   "language": "python",
   "name": "python3"
  },
  "language_info": {
   "codemirror_mode": {
    "name": "ipython",
    "version": 3
   },
   "file_extension": ".py",
   "mimetype": "text/x-python",
   "name": "python",
   "nbconvert_exporter": "python",
   "pygments_lexer": "ipython3",
   "version": "3.9.7"
  }
 },
 "nbformat": 4,
 "nbformat_minor": 5
}
